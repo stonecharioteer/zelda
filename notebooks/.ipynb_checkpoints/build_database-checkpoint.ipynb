{
 "cells": [
  {
   "cell_type": "code",
   "execution_count": 1,
   "metadata": {},
   "outputs": [],
   "source": [
    "import requests\n",
    "import urllib\n",
    "import bs4\n",
    "import json\n",
    "import progressbar\n",
    "chuck_norris = \"https://api.icndb.com/jokes\"\n",
    "dad_joke = \"https://icanhazdadjoke.com/\"\n",
    "yomomma = \"http://api.yomomma.info\"\n",
    "joke_request = requests.get(chuck_norris)\n",
    "chuck_norris_jokes = json.loads(joke_request.text)[\"value\"]\n",
    "dad_jokes = []\n",
    "yomomma_jokes = []"
   ]
  },
  {
   "cell_type": "code",
   "execution_count": 2,
   "metadata": {},
   "outputs": [
    {
     "name": "stderr",
     "output_type": "stream",
     "text": [
      "100% (5000 of 5000) |####################| Elapsed Time: 0:38:40 Time:  0:38:40\n",
      "N/A% (0 of 100000) |                     | Elapsed Time: 0:00:00 ETA:  --:--:--"
     ]
    },
    {
     "ename": "NameError",
     "evalue": "name 'jokes' is not defined",
     "output_type": "error",
     "traceback": [
      "\u001b[0;31m---------------------------------------------------------------------------\u001b[0m",
      "\u001b[0;31mNameError\u001b[0m                                 Traceback (most recent call last)",
      "\u001b[0;32m<ipython-input-2-cd82506a6d55>\u001b[0m in \u001b[0;36m<module>\u001b[0;34m()\u001b[0m\n\u001b[1;32m     11\u001b[0m     \u001b[0mjoke_soup\u001b[0m \u001b[0;34m=\u001b[0m \u001b[0mbs4\u001b[0m\u001b[0;34m.\u001b[0m\u001b[0mBeautifulSoup\u001b[0m\u001b[0;34m(\u001b[0m\u001b[0mjoke_request\u001b[0m\u001b[0;34m,\u001b[0m \u001b[0;34m\"lxml\"\u001b[0m\u001b[0;34m)\u001b[0m\u001b[0;34m\u001b[0m\u001b[0m\n\u001b[1;32m     12\u001b[0m     \u001b[0mjoke_text\u001b[0m \u001b[0;34m=\u001b[0m \u001b[0mjoke_soup\u001b[0m\u001b[0;34m.\u001b[0m\u001b[0mfind_all\u001b[0m\u001b[0;34m(\u001b[0m\u001b[0;34m\"p\"\u001b[0m\u001b[0;34m,\u001b[0m\u001b[0mattrs\u001b[0m\u001b[0;34m=\u001b[0m\u001b[0;34m{\u001b[0m\u001b[0;34m\"class\"\u001b[0m\u001b[0;34m:\u001b[0m\u001b[0;34m\"subtitle\"\u001b[0m\u001b[0;34m}\u001b[0m\u001b[0;34m)\u001b[0m\u001b[0;34m[\u001b[0m\u001b[0;36m0\u001b[0m\u001b[0;34m]\u001b[0m\u001b[0;34m.\u001b[0m\u001b[0mtext\u001b[0m\u001b[0;34m\u001b[0m\u001b[0m\n\u001b[0;32m---> 13\u001b[0;31m     \u001b[0;32mif\u001b[0m \u001b[0mjoke_text\u001b[0m \u001b[0;32mnot\u001b[0m \u001b[0;32min\u001b[0m \u001b[0mjokes\u001b[0m\u001b[0;34m:\u001b[0m\u001b[0;34m\u001b[0m\u001b[0m\n\u001b[0m\u001b[1;32m     14\u001b[0m         \u001b[0mjokes\u001b[0m\u001b[0;34m.\u001b[0m\u001b[0mappend\u001b[0m\u001b[0;34m(\u001b[0m\u001b[0mjoke_text\u001b[0m\u001b[0;34m)\u001b[0m\u001b[0;34m\u001b[0m\u001b[0m\n\u001b[1;32m     15\u001b[0m     \u001b[0;32mif\u001b[0m \u001b[0mlen\u001b[0m\u001b[0;34m(\u001b[0m\u001b[0mjokes\u001b[0m\u001b[0;34m)\u001b[0m \u001b[0;34m%\u001b[0m \u001b[0;36m1000\u001b[0m \u001b[0;34m==\u001b[0m \u001b[0;36m0\u001b[0m\u001b[0;34m:\u001b[0m\u001b[0;34m\u001b[0m\u001b[0m\n",
      "\u001b[0;31mNameError\u001b[0m: name 'jokes' is not defined"
     ]
    }
   ],
   "source": [
    "for i in progressbar.progressbar(range(5000)):\n",
    "    r = requests.get(yomomma).text\n",
    "    joke = json.loads(r)[\"joke\"]\n",
    "    if joke not in yomomma_jokes:\n",
    "        yomomma_jokes.append(joke)\n",
    "    if len(yomomma_jokes) > 105:\n",
    "        break\n",
    "        \n",
    "for i in progressbar.progressbar(range(100000)):\n",
    "    joke_request = requests.get(dad_joke).text\n",
    "    joke_soup = bs4.BeautifulSoup(joke_request, \"lxml\")\n",
    "    joke_text = joke_soup.find_all(\"p\",attrs={\"class\":\"subtitle\"})[0].text\n",
    "    if joke_text not in jokes:\n",
    "        jokes.append(joke_text)\n",
    "    if len(jokes) % 1000 == 0:\n",
    "        print(len(jokes))"
   ]
  }
 ],
 "metadata": {
  "kernelspec": {
   "display_name": "Python 3",
   "language": "python",
   "name": "python3"
  },
  "language_info": {
   "codemirror_mode": {
    "name": "ipython",
    "version": 3
   },
   "file_extension": ".py",
   "mimetype": "text/x-python",
   "name": "python",
   "nbconvert_exporter": "python",
   "pygments_lexer": "ipython3",
   "version": "3.6.5"
  }
 },
 "nbformat": 4,
 "nbformat_minor": 2
}
